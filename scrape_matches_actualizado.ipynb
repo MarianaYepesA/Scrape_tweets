{
 "cells": [
  {
   "cell_type": "code",
   "execution_count": 91,
   "metadata": {},
   "outputs": [],
   "source": [
    "import pandas as pd\n",
    "import snscrape.modules.twitter as sntwitter\n",
    "import itertools\n",
    "import os\n",
    "import datetime"
   ]
  },
  {
   "cell_type": "code",
   "execution_count": null,
   "metadata": {},
   "outputs": [],
   "source": []
  },
  {
   "cell_type": "code",
   "execution_count": 92,
   "metadata": {},
   "outputs": [],
   "source": [
    "#Load Matches data\n",
    "partidos=pd.read_excel(\"Eurocupsf.xlsx\")\n",
    "#Separate teams in different columns\n",
    "partidos[\"equipo 1\"]=partidos['Team 1'].astype(str)\n",
    "partidos[\"equipo 2\"]=partidos['Team 2'].astype(str)"
   ]
  },
  {
   "cell_type": "code",
   "execution_count": 93,
   "outputs": [],
   "source": [
    "#Cleaning countries names\n",
    "partidos['equipo 1'].replace({'Israel -':'Israel',\n",
    "                              'Andorra -':'Andorra',\n",
    "                              'Israel - Belgium':'Israel',\n",
    "                              'Cyprus -':'Cyprus',\n",
    "                              'Netherlands -':'Netherlands',\n",
    "                              'Croatia -':'Croatia',\n",
    "                              'Slovakia -':'Slovakia',\n",
    "                              'Austria -':'Austria',\n",
    "                              'North Macedonia -':'Macedonia',\n",
    "                              'North Macedonia':'Macedonia',\n",
    "                              'Kazakhstan -':'Kazakhstan',\n",
    "                              'Belgium -':'Belgium',\n",
    "                              'England -':'England',\n",
    "                              'Luxembourg -':'Luxembourg',\n",
    "                              'Portugal -':'Portugal',\n",
    "                              'Albania -':'Albania',\n",
    "                              'Moldova -':'Moldova',\n",
    "                              'Wales -':'Wales',\n",
    "                              'Georgia -':'Georgia',\n",
    "                              'Gibraltar -':'Gibraltar',\n",
    "                              'Sweden -':'Sweden',\n",
    "                              'Italy -':'Italy',\n",
    "                              'Hungary -':'Hungary',\n",
    "                              'Poland -':'Poland',\n",
    "                              'Slovenia -':'Slovenia',\n",
    "                              'San Marino -':'San Marino',\n",
    "                              'Kosovo -':'Kosovo',\n",
    "                              'Montenegro -':'Montenegro',\n",
    "                              'Turkey -':'Turkey',\n",
    "                              'France -':'France',\n",
    "                              'Ireland -':'Ireland',\n",
    "                              'Switzerland -':'Switzerland',\n",
    "                              'Norway -':'Norway',\n",
    "                              'Romania -':'Romania',\n",
    "                              'Armenia -':'Armenia',\n",
    "                              'Estonia -':'Estonia',\n",
    "                              'Belarus -':'Belarus',\n",
    "                              'Azerbaijan -':'Azerbaijan',\n",
    "                              'Iceland -':'Iceland',\n",
    "                              'Scotland -':'Scotland',\n",
    "                              'Finland -':'Finland',\n",
    "                              'Bulgaria -':'Bulgaria',\n",
    "                              'Serbia -':'Serbia',\n",
    "                              'Ukraine -':'Ukraine',\n",
    "                              'Denmark -':'Denmark',\n",
    "                              'Malta -':'Malta',\n",
    "                              'Latvia -':'Latvia',\n",
    "                              'Germany -':'Germany',\n",
    "                              'Russia -':'Russia',\n",
    "                              'Greece -':'Greece',\n",
    "                              'Lithuania -':'Lithuania',\n",
    "                              'Spain -':'Spain',\n",
    "                              'Bosnia-Herzegovina -':'Bosnia-Herzegovina',\n",
    "                              'Czech':'Czech Republic',\n",
    "                              'Northern':'Northern Ireland',\n",
    "                              'Malta - Faroe':'Malta',\n",
    "                              'Russia - San':'Russia',\n",
    "                              'Israel - North':'Israel',\n",
    "                              'Kosovo - Czech':'Kosovo',\n",
    "                              'Spain - Faroe':'Spain',\n",
    "                              'Belgium - San':'Belgium',\n",
    "                              'Poland - North':'Poland',\n",
    "                              'Scotland - San':'Scotland',\n",
    "                              'Norway - Faroe':'Norway',\n",
    "                              'Austria - North':'Austria',\n",
    "                              'Sweden - Faroe':'Sweden',\n",
    "                              'Georgia - North':'Georgia',\n",
    "                              'North':'Macedonia',}, inplace=True)\n",
    "for i in partidos['equipo 2']:\n",
    "    i.replace('_x000D_','')\n",
    "partidos['equipo 2'].replace({'BosniaHerzegovina':'Bosnia-Herzegovina',\n",
    "                              'Republic  Netherlands':'Netherlands',\n",
    "                              '01':'Belgium',\n",
    "                              'Ireland  Faroe Islands':'Faroe Islands',\n",
    "                              'Ireland  Finland':'Finland',\n",
    "                              'Ireland  Romania':'Romania',\n",
    "                              'Ireland  Hungary':'Hungary',\n",
    "                              'Ireland  Greece':'Greece',\n",
    "                              'Ireland  Estonia':'Estonia',\n",
    "                              'Islands':'Faroe Islands',\n",
    "                              'Ireland  Belarus':'Belarus',\n",
    "                              'North Macedonia':'Macedonia',\n",
    "                              'Marino':'San Marino',\n",
    "                              'Macedonia  Austria':'Austria',\n",
    "                              'Republic':'Czech Republic',\n",
    "                              'Ireland  Germany':'Germany',\n",
    "                              'Macedonia  Slovenia':'Slovenia',\n",
    "                              'Macedonia  Israel':'Israel',\n",
    "                              'Macedonia  Kosovo':'Kosovo',\n",
    "                              'Ireland  Slovakia':'Slovakia',\n",
    "                              'Ireland  Netherlands':'Netherlands'}, inplace=True)"
   ],
   "metadata": {
    "collapsed": false,
    "pycharm": {
     "name": "#%%\n"
    }
   }
  },
  {
   "cell_type": "code",
   "execution_count": 94,
   "metadata": {},
   "outputs": [
    {
     "data": {
      "text/plain": "            Date                       Stage      Team 1       Team 2  \\\n0     16-08-2006  QUALIFYING STAGE – GROUP A     Belgium   Kazakhstan   \n1      2-09-2006  QUALIFYING STAGE – GROUP A      Serbia   Azerbaijan   \n2      2-09-2006  QUALIFYING STAGE – GROUP A      Poland      Finland   \n3      6-09-2006  QUALIFYING STAGE – GROUP A  Azerbaijan   Kazakhstan   \n4      6-09-2006  QUALIFYING STAGE – GROUP A     Finland     Portugal   \n...          ...                         ...         ...          ...   \n1210  28-06-2021                   1/8 FINAL      France  Switzerland   \n1211  29-06-2021                   1/8 FINAL     England      Germany   \n1212   6-07-2021                   1/2 FINAL       Italy        Spain   \n1213   7-07-2021                   1/2 FINAL     England      Denmark   \n1214  11-07-2021                       FINAL       Italy      England   \n\n     Final result                                              Goals  \\\n0       0-0 (0-0)                                                  -   \n1       1-0 (0-0)  1-0 (Žigić 72’)[Incidents Game played behind c...   \n2       1-3 (0-0)   0-1 (Litmanen 54’); 0-2 (Litmanen [p.] 76’); ...   \n3       1-1 (1-1)                 1-0 (Ladaga 16’); 1-1 (Bjakov 36’)   \n4       1-1 (1-1)          1-0 (Johansson 22’); 1-1 (Nuno Gomes 42’)   \n...           ...                                                ...   \n1210          3-3  GOALS 0-1 (Seferović 15’); 1-1 (Benzema 57’); ...   \n1211          2-0           GOALS 1-0 (Sterling 75’); 2-0 (Kane 86’)   \n1212          1-1           GOALS 1-0 (Chiesa 60’); 1-1 (Morata 80’)   \n1213          2-1  GOALS 0-1 (Damsgaard 30’); 1-1 (Kjær [o.g.] 39...   \n1214          1-1             GOALS 0-1 (Shaw 2’); 1-1 (Bonucci 67’)   \n\n        equipo 1     equipo 2  \n0        Belgium   Kazakhstan  \n1         Serbia   Azerbaijan  \n2         Poland      Finland  \n3     Azerbaijan   Kazakhstan  \n4        Finland     Portugal  \n...          ...          ...  \n1210      France  Switzerland  \n1211     England      Germany  \n1212       Italy        Spain  \n1213     England      Denmark  \n1214       Italy      England  \n\n[1215 rows x 8 columns]",
      "text/html": "<div>\n<style scoped>\n    .dataframe tbody tr th:only-of-type {\n        vertical-align: middle;\n    }\n\n    .dataframe tbody tr th {\n        vertical-align: top;\n    }\n\n    .dataframe thead th {\n        text-align: right;\n    }\n</style>\n<table border=\"1\" class=\"dataframe\">\n  <thead>\n    <tr style=\"text-align: right;\">\n      <th></th>\n      <th>Date</th>\n      <th>Stage</th>\n      <th>Team 1</th>\n      <th>Team 2</th>\n      <th>Final result</th>\n      <th>Goals</th>\n      <th>equipo 1</th>\n      <th>equipo 2</th>\n    </tr>\n  </thead>\n  <tbody>\n    <tr>\n      <th>0</th>\n      <td>16-08-2006</td>\n      <td>QUALIFYING STAGE – GROUP A</td>\n      <td>Belgium</td>\n      <td>Kazakhstan</td>\n      <td>0-0 (0-0)</td>\n      <td>-</td>\n      <td>Belgium</td>\n      <td>Kazakhstan</td>\n    </tr>\n    <tr>\n      <th>1</th>\n      <td>2-09-2006</td>\n      <td>QUALIFYING STAGE – GROUP A</td>\n      <td>Serbia</td>\n      <td>Azerbaijan</td>\n      <td>1-0 (0-0)</td>\n      <td>1-0 (Žigić 72’)[Incidents Game played behind c...</td>\n      <td>Serbia</td>\n      <td>Azerbaijan</td>\n    </tr>\n    <tr>\n      <th>2</th>\n      <td>2-09-2006</td>\n      <td>QUALIFYING STAGE – GROUP A</td>\n      <td>Poland</td>\n      <td>Finland</td>\n      <td>1-3 (0-0)</td>\n      <td>0-1 (Litmanen 54’); 0-2 (Litmanen [p.] 76’); ...</td>\n      <td>Poland</td>\n      <td>Finland</td>\n    </tr>\n    <tr>\n      <th>3</th>\n      <td>6-09-2006</td>\n      <td>QUALIFYING STAGE – GROUP A</td>\n      <td>Azerbaijan</td>\n      <td>Kazakhstan</td>\n      <td>1-1 (1-1)</td>\n      <td>1-0 (Ladaga 16’); 1-1 (Bjakov 36’)</td>\n      <td>Azerbaijan</td>\n      <td>Kazakhstan</td>\n    </tr>\n    <tr>\n      <th>4</th>\n      <td>6-09-2006</td>\n      <td>QUALIFYING STAGE – GROUP A</td>\n      <td>Finland</td>\n      <td>Portugal</td>\n      <td>1-1 (1-1)</td>\n      <td>1-0 (Johansson 22’); 1-1 (Nuno Gomes 42’)</td>\n      <td>Finland</td>\n      <td>Portugal</td>\n    </tr>\n    <tr>\n      <th>...</th>\n      <td>...</td>\n      <td>...</td>\n      <td>...</td>\n      <td>...</td>\n      <td>...</td>\n      <td>...</td>\n      <td>...</td>\n      <td>...</td>\n    </tr>\n    <tr>\n      <th>1210</th>\n      <td>28-06-2021</td>\n      <td>1/8 FINAL</td>\n      <td>France</td>\n      <td>Switzerland</td>\n      <td>3-3</td>\n      <td>GOALS 0-1 (Seferović 15’); 1-1 (Benzema 57’); ...</td>\n      <td>France</td>\n      <td>Switzerland</td>\n    </tr>\n    <tr>\n      <th>1211</th>\n      <td>29-06-2021</td>\n      <td>1/8 FINAL</td>\n      <td>England</td>\n      <td>Germany</td>\n      <td>2-0</td>\n      <td>GOALS 1-0 (Sterling 75’); 2-0 (Kane 86’)</td>\n      <td>England</td>\n      <td>Germany</td>\n    </tr>\n    <tr>\n      <th>1212</th>\n      <td>6-07-2021</td>\n      <td>1/2 FINAL</td>\n      <td>Italy</td>\n      <td>Spain</td>\n      <td>1-1</td>\n      <td>GOALS 1-0 (Chiesa 60’); 1-1 (Morata 80’)</td>\n      <td>Italy</td>\n      <td>Spain</td>\n    </tr>\n    <tr>\n      <th>1213</th>\n      <td>7-07-2021</td>\n      <td>1/2 FINAL</td>\n      <td>England</td>\n      <td>Denmark</td>\n      <td>2-1</td>\n      <td>GOALS 0-1 (Damsgaard 30’); 1-1 (Kjær [o.g.] 39...</td>\n      <td>England</td>\n      <td>Denmark</td>\n    </tr>\n    <tr>\n      <th>1214</th>\n      <td>11-07-2021</td>\n      <td>FINAL</td>\n      <td>Italy</td>\n      <td>England</td>\n      <td>1-1</td>\n      <td>GOALS 0-1 (Shaw 2’); 1-1 (Bonucci 67’)</td>\n      <td>Italy</td>\n      <td>England</td>\n    </tr>\n  </tbody>\n</table>\n<p>1215 rows × 8 columns</p>\n</div>"
     },
     "execution_count": 94,
     "metadata": {},
     "output_type": "execute_result"
    }
   ],
   "source": [
    "#Drop empty fields\n",
    "partidos\n",
    "partidos.dropna()"
   ]
  },
  {
   "cell_type": "code",
   "execution_count": 96,
   "metadata": {},
   "outputs": [],
   "source": [
    "#Import dictionary with capitals\n",
    "import json\n",
    "with open('capitales.json', 'r') as JSON:\n",
    "       json_dict = json.load(JSON)"
   ]
  },
  {
   "cell_type": "code",
   "execution_count": 95,
   "metadata": {},
   "outputs": [],
   "source": [
    "#Import dictionary with acronyms\n",
    "acronyms = pd.read_csv('Acronyms.csv')\n",
    "acronyms_dict = {}\n",
    "for index,country in enumerate(acronyms['Country']):\n",
    "    acronyms_dict[country] = acronyms['Acronym'][index]"
   ]
  },
  {
   "cell_type": "code",
   "execution_count": 97,
   "metadata": {},
   "outputs": [],
   "source": [
    "capitales={}\n",
    "for i in range(len(json_dict)):\n",
    "    capitales[json_dict[i][\"country\"]]=json_dict[i][\"city\"]\n"
   ]
  },
  {
   "cell_type": "code",
   "execution_count": 98,
   "metadata": {},
   "outputs": [
    {
     "data": {
      "text/plain": "dict_values(['Kabul', 'Tirana', 'Alger', 'Fagatogo', 'Andorra la Vella', 'Luanda', 'The Valley', None, \"Saint John's\", 'Buenos Aires', 'Yerevan', 'Oranjestad', 'Canberra', 'Wien', 'Baku', 'Nassau', 'al-Manama', 'Dhaka', 'Bridgetown', 'Minsk', 'Bruxelles [Brussel]', 'Belmopan', 'Porto-Novo', 'Hamilton', 'Thimphu', 'La Paz', 'Sarajevo', 'Gaborone', None, 'BrasÃ\\xadlia', None, 'Bandar Seri Begawan', 'Sofia', 'Ouagadougou', 'Bujumbura', 'Phnom Penh', 'Yaound', 'Ottawa', 'Praia', 'George Town', 'Bangui', \"N'Djam\", 'Santiago de Chile', 'Peking', 'Flying Fish Cove', 'West Island', 'Santaf', 'Moroni', 'Brazzaville', 'Avarua', 'San JosÃ©', 'Zagreb', 'La Habana', 'Nicosia', 'Praha', 'Copenhagen', 'Djibouti', 'Roseau', 'Santo Domingo de Guzm', 'Dili', 'Quito', 'Cairo', 'San Salvador', 'London', 'Malabo', 'Asmara', 'Tallinn', 'Addis Abeba', 'Stanley', 'TÃ³rshavn', 'Suva', 'Helsinki [Helsingfors]', 'Paris', 'Cayenne', 'Papeete', None, 'Libreville', 'Banjul', 'Tbilisi', 'Berlin', 'Accra', 'Gibraltar', 'Athenai', 'Nuuk', \"Saint George's\", 'Basse-Terre', 'Aga', 'Ciudad de Guatemala', 'Conakry', 'Bissau', 'Georgetown', 'Port-au-Prince', None, 'Citt', 'Tegucigalpa', 'Victoria', 'Budapest', 'ReykjavÃ\\xadk', 'New Delhi', 'Jakarta', 'Tehran', 'Baghdad', 'Dublin', 'Jerusalem', 'Roma', 'Yamoussoukro', 'Kingston', 'Tokyo', 'Amman', 'Astana', 'Nairobi', 'Bairiki', 'Kuwait', 'Bishkek', 'Vientiane', 'Riga', 'Beirut', 'Maseru', 'Monrovia', 'Tripoli', 'Vaduz', 'Vilnius', 'Luxembourg', 'Macao', 'Skopje', 'Antananarivo', 'Lilongwe', 'Kuala Lumpur', 'Male', 'Bamako', 'Valletta', 'Dalap-Uliga-Darrit', 'Fort-de-France', 'Nouakchott', 'Port-Louis', 'Mamoutzou', 'Ciudad de M', 'Palikir', 'Chisinau', 'Monaco-Ville', 'Ulan Bator', 'Podgorica', 'Plymouth', 'Rabat', 'Maputo', 'Rangoon (Yangon)', 'Windhoek', 'Yaren', 'Kathmandu', 'Amsterdam', 'Willemstad', 'Noum', 'Wellington', 'Managua', 'Niamey', 'Abuja', 'Alofi', 'Kingston', 'Pyongyang', 'Belfast', 'Garapan', 'Oslo', 'Masqat', 'Islamabad', 'Koror', 'Gaza', 'Ciudad de PanamÃ¡', 'Port Moresby', 'AsunciÃ³n', 'Lima', 'Manila', 'Adamstown', 'Warszawa', 'Lisboa', 'San Juan', 'Doha', 'Saint-Denis', 'Bucuresti', 'Moscow', 'Kigali', 'Jamestown', 'Basseterre', 'Castries', 'Saint-Pierre', 'Kingstown', 'Apia', 'San Marino', 'SÃ£o TomÃ©', 'Riyadh', 'Edinburgh', 'Dakar', 'Belgrade', 'Victoria', 'Freetown', 'Singapore', 'Bratislava', 'Ljubljana', 'Honiara', 'Mogadishu', 'Pretoria', None, 'Seoul', 'Juba', 'Madrid', None, 'Khartum', 'Paramaribo', 'Longyearbyen', 'Mbabane', 'Stockholm', 'Bern', 'Damascus', 'Dushanbe', 'Dodoma', 'Bangkok', 'Kinshasa', 'LomÃ©', 'Fakaofo', \"Nuku'alofa\", 'Port-of-Spain', 'Tunis', 'Ankara', 'Ashgabat', 'Cockburn Town', 'Funafuti', 'Kampala', 'Kyiv', 'Abu Dhabi', 'London', 'Washington', None, 'Montevideo', 'Toskent', 'Port-Vila', 'Caracas', 'Hanoi', 'Road Town', 'Charlotte Amalie', 'Cardiff', 'Mata-Utu', 'El-Aai', 'Sanaa', 'Lusaka', 'Harare'])"
     },
     "execution_count": 98,
     "metadata": {},
     "output_type": "execute_result"
    }
   ],
   "source": [
    "capitales.update({'Luxembourg': 'Luxembourg'})\n",
    "capitales.values()"
   ]
  },
  {
   "cell_type": "code",
   "execution_count": 99,
   "metadata": {},
   "outputs": [],
   "source": [
    "#Assign capitals and acronyms to countries\n",
    "for i in range(len(partidos[\"equipo 1\"])):\n",
    "    partidos[\"capitales1\"] = partidos[\"equipo 1\"].apply(lambda x: capitales.get(x))\n",
    "    partidos[\"acronimo1\"] = partidos[\"equipo 1\"].apply(lambda x: acronyms_dict.get(x))\n",
    "for i in range(len(partidos[\"equipo 2\"])):\n",
    "    partidos[\"capitales2\"] = partidos[\"equipo 2\"].apply(lambda x: capitales.get(x))\n",
    "    partidos[\"acronimo2\"] = partidos[\"equipo 2\"].apply(lambda x: acronyms_dict.get(x))"
   ]
  },
  {
   "cell_type": "code",
   "execution_count": 100,
   "metadata": {},
   "outputs": [
    {
     "data": {
      "text/plain": "            Date                       Stage      Team 1       Team 2  \\\n0     16-08-2006  QUALIFYING STAGE – GROUP A     Belgium   Kazakhstan   \n1      2-09-2006  QUALIFYING STAGE – GROUP A      Serbia   Azerbaijan   \n2      2-09-2006  QUALIFYING STAGE – GROUP A      Poland      Finland   \n3      6-09-2006  QUALIFYING STAGE – GROUP A  Azerbaijan   Kazakhstan   \n4      6-09-2006  QUALIFYING STAGE – GROUP A     Finland     Portugal   \n...          ...                         ...         ...          ...   \n1210  28-06-2021                   1/8 FINAL      France  Switzerland   \n1211  29-06-2021                   1/8 FINAL     England      Germany   \n1212   6-07-2021                   1/2 FINAL       Italy        Spain   \n1213   7-07-2021                   1/2 FINAL     England      Denmark   \n1214  11-07-2021                       FINAL       Italy      England   \n\n     Final result                                              Goals  \\\n0       0-0 (0-0)                                                  -   \n1       1-0 (0-0)  1-0 (Žigić 72’)[Incidents Game played behind c...   \n2       1-3 (0-0)   0-1 (Litmanen 54’); 0-2 (Litmanen [p.] 76’); ...   \n3       1-1 (1-1)                 1-0 (Ladaga 16’); 1-1 (Bjakov 36’)   \n4       1-1 (1-1)          1-0 (Johansson 22’); 1-1 (Nuno Gomes 42’)   \n...           ...                                                ...   \n1210          3-3  GOALS 0-1 (Seferović 15’); 1-1 (Benzema 57’); ...   \n1211          2-0           GOALS 1-0 (Sterling 75’); 2-0 (Kane 86’)   \n1212          1-1           GOALS 1-0 (Chiesa 60’); 1-1 (Morata 80’)   \n1213          2-1  GOALS 0-1 (Damsgaard 30’); 1-1 (Kjær [o.g.] 39...   \n1214          1-1             GOALS 0-1 (Shaw 2’); 1-1 (Bonucci 67’)   \n\n        equipo 1     equipo 2              capitales1 acronimo1  \\\n0        Belgium   Kazakhstan     Bruxelles [Brussel]        BE   \n1         Serbia   Azerbaijan                Belgrade        RS   \n2         Poland      Finland                Warszawa        PL   \n3     Azerbaijan   Kazakhstan                    Baku        AZ   \n4        Finland     Portugal  Helsinki [Helsingfors]        FI   \n...          ...          ...                     ...       ...   \n1210      France  Switzerland                   Paris        FR   \n1211     England      Germany                  London       ENG   \n1212       Italy        Spain                    Roma        IT   \n1213     England      Denmark                  London       ENG   \n1214       Italy      England                    Roma        IT   \n\n                  capitales2 acronimo2  \n0                     Astana        KZ  \n1                       Baku        AZ  \n2     Helsinki [Helsingfors]        FI  \n3                     Astana        KZ  \n4                     Lisboa        PT  \n...                      ...       ...  \n1210                    Bern        CH  \n1211                  Berlin        DE  \n1212                  Madrid        ES  \n1213              Copenhagen        DK  \n1214                  London       ENG  \n\n[1066 rows x 12 columns]",
      "text/html": "<div>\n<style scoped>\n    .dataframe tbody tr th:only-of-type {\n        vertical-align: middle;\n    }\n\n    .dataframe tbody tr th {\n        vertical-align: top;\n    }\n\n    .dataframe thead th {\n        text-align: right;\n    }\n</style>\n<table border=\"1\" class=\"dataframe\">\n  <thead>\n    <tr style=\"text-align: right;\">\n      <th></th>\n      <th>Date</th>\n      <th>Stage</th>\n      <th>Team 1</th>\n      <th>Team 2</th>\n      <th>Final result</th>\n      <th>Goals</th>\n      <th>equipo 1</th>\n      <th>equipo 2</th>\n      <th>capitales1</th>\n      <th>acronimo1</th>\n      <th>capitales2</th>\n      <th>acronimo2</th>\n    </tr>\n  </thead>\n  <tbody>\n    <tr>\n      <th>0</th>\n      <td>16-08-2006</td>\n      <td>QUALIFYING STAGE – GROUP A</td>\n      <td>Belgium</td>\n      <td>Kazakhstan</td>\n      <td>0-0 (0-0)</td>\n      <td>-</td>\n      <td>Belgium</td>\n      <td>Kazakhstan</td>\n      <td>Bruxelles [Brussel]</td>\n      <td>BE</td>\n      <td>Astana</td>\n      <td>KZ</td>\n    </tr>\n    <tr>\n      <th>1</th>\n      <td>2-09-2006</td>\n      <td>QUALIFYING STAGE – GROUP A</td>\n      <td>Serbia</td>\n      <td>Azerbaijan</td>\n      <td>1-0 (0-0)</td>\n      <td>1-0 (Žigić 72’)[Incidents Game played behind c...</td>\n      <td>Serbia</td>\n      <td>Azerbaijan</td>\n      <td>Belgrade</td>\n      <td>RS</td>\n      <td>Baku</td>\n      <td>AZ</td>\n    </tr>\n    <tr>\n      <th>2</th>\n      <td>2-09-2006</td>\n      <td>QUALIFYING STAGE – GROUP A</td>\n      <td>Poland</td>\n      <td>Finland</td>\n      <td>1-3 (0-0)</td>\n      <td>0-1 (Litmanen 54’); 0-2 (Litmanen [p.] 76’); ...</td>\n      <td>Poland</td>\n      <td>Finland</td>\n      <td>Warszawa</td>\n      <td>PL</td>\n      <td>Helsinki [Helsingfors]</td>\n      <td>FI</td>\n    </tr>\n    <tr>\n      <th>3</th>\n      <td>6-09-2006</td>\n      <td>QUALIFYING STAGE – GROUP A</td>\n      <td>Azerbaijan</td>\n      <td>Kazakhstan</td>\n      <td>1-1 (1-1)</td>\n      <td>1-0 (Ladaga 16’); 1-1 (Bjakov 36’)</td>\n      <td>Azerbaijan</td>\n      <td>Kazakhstan</td>\n      <td>Baku</td>\n      <td>AZ</td>\n      <td>Astana</td>\n      <td>KZ</td>\n    </tr>\n    <tr>\n      <th>4</th>\n      <td>6-09-2006</td>\n      <td>QUALIFYING STAGE – GROUP A</td>\n      <td>Finland</td>\n      <td>Portugal</td>\n      <td>1-1 (1-1)</td>\n      <td>1-0 (Johansson 22’); 1-1 (Nuno Gomes 42’)</td>\n      <td>Finland</td>\n      <td>Portugal</td>\n      <td>Helsinki [Helsingfors]</td>\n      <td>FI</td>\n      <td>Lisboa</td>\n      <td>PT</td>\n    </tr>\n    <tr>\n      <th>...</th>\n      <td>...</td>\n      <td>...</td>\n      <td>...</td>\n      <td>...</td>\n      <td>...</td>\n      <td>...</td>\n      <td>...</td>\n      <td>...</td>\n      <td>...</td>\n      <td>...</td>\n      <td>...</td>\n      <td>...</td>\n    </tr>\n    <tr>\n      <th>1210</th>\n      <td>28-06-2021</td>\n      <td>1/8 FINAL</td>\n      <td>France</td>\n      <td>Switzerland</td>\n      <td>3-3</td>\n      <td>GOALS 0-1 (Seferović 15’); 1-1 (Benzema 57’); ...</td>\n      <td>France</td>\n      <td>Switzerland</td>\n      <td>Paris</td>\n      <td>FR</td>\n      <td>Bern</td>\n      <td>CH</td>\n    </tr>\n    <tr>\n      <th>1211</th>\n      <td>29-06-2021</td>\n      <td>1/8 FINAL</td>\n      <td>England</td>\n      <td>Germany</td>\n      <td>2-0</td>\n      <td>GOALS 1-0 (Sterling 75’); 2-0 (Kane 86’)</td>\n      <td>England</td>\n      <td>Germany</td>\n      <td>London</td>\n      <td>ENG</td>\n      <td>Berlin</td>\n      <td>DE</td>\n    </tr>\n    <tr>\n      <th>1212</th>\n      <td>6-07-2021</td>\n      <td>1/2 FINAL</td>\n      <td>Italy</td>\n      <td>Spain</td>\n      <td>1-1</td>\n      <td>GOALS 1-0 (Chiesa 60’); 1-1 (Morata 80’)</td>\n      <td>Italy</td>\n      <td>Spain</td>\n      <td>Roma</td>\n      <td>IT</td>\n      <td>Madrid</td>\n      <td>ES</td>\n    </tr>\n    <tr>\n      <th>1213</th>\n      <td>7-07-2021</td>\n      <td>1/2 FINAL</td>\n      <td>England</td>\n      <td>Denmark</td>\n      <td>2-1</td>\n      <td>GOALS 0-1 (Damsgaard 30’); 1-1 (Kjær [o.g.] 39...</td>\n      <td>England</td>\n      <td>Denmark</td>\n      <td>London</td>\n      <td>ENG</td>\n      <td>Copenhagen</td>\n      <td>DK</td>\n    </tr>\n    <tr>\n      <th>1214</th>\n      <td>11-07-2021</td>\n      <td>FINAL</td>\n      <td>Italy</td>\n      <td>England</td>\n      <td>1-1</td>\n      <td>GOALS 0-1 (Shaw 2’); 1-1 (Bonucci 67’)</td>\n      <td>Italy</td>\n      <td>England</td>\n      <td>Roma</td>\n      <td>IT</td>\n      <td>London</td>\n      <td>ENG</td>\n    </tr>\n  </tbody>\n</table>\n<p>1066 rows × 12 columns</p>\n</div>"
     },
     "execution_count": 100,
     "metadata": {},
     "output_type": "execute_result"
    }
   ],
   "source": [
    "partidos.dropna()"
   ]
  },
  {
   "cell_type": "code",
   "execution_count": 101,
   "metadata": {},
   "outputs": [],
   "source": [
    "import datetime\n",
    "#Transform date into format for twitter\n",
    "for i in range(len(partidos[\"Date\"])):\n",
    "    partidos[\"Date\"][i]=datetime.datetime.strptime(partidos[\"Date\"][i].replace('_x000D_',''), \"%d-%m-%Y\").strftime(\"%Y-%m-%d\")"
   ]
  },
  {
   "cell_type": "code",
   "execution_count": 105,
   "metadata": {},
   "outputs": [],
   "source": [
    "#Create keywords for search\n",
    "partidos['kw1'] = partidos[['equipo 1', 'equipo 2']].agg(''.join, axis=1)\n",
    "partidos['kw2'] = partidos[['equipo 1', 'equipo 2']].agg('-'.join, axis=1)\n",
    "partidos['kw3'] = partidos[['equipo 1', 'equipo 2']].agg('_'.join, axis=1)\n",
    "partidos['kw4'] = partidos[['equipo 1', 'equipo 2']].agg('vs'.join, axis=1)\n",
    "partidos['kw5'] = partidos[['acronimo1', 'acronimo2']].agg(''.join, axis=1)\n",
    "partidos['kw6'] = partidos[['acronimo1', 'acronimo2']].agg('-'.join, axis=1)\n",
    "partidos['kw7'] = partidos[['acronimo1', 'acronimo2']].agg('_'.join, axis=1)\n",
    "partidos['kw8'] = partidos[['acronimo1', 'acronimo2']].agg('vs'.join, axis=1)\n",
    "partidos['kw9'] = partidos[['equipo 2', 'equipo 1']].agg(''.join, axis=1)\n",
    "partidos['kw10'] = partidos[['equipo 2', 'equipo 1']].agg('-'.join, axis=1)\n",
    "partidos['kw11'] = partidos[['equipo 2', 'equipo 1']].agg('_'.join, axis=1)\n",
    "partidos['kw12'] = partidos[['equipo 2', 'equipo 1']].agg('vs'.join, axis=1)\n",
    "partidos['kw13'] = partidos[['acronimo2', 'acronimo1']].agg(''.join, axis=1)\n",
    "partidos['kw14'] = partidos[['acronimo2', 'acronimo1']].agg('-'.join, axis=1)\n",
    "partidos['kw15'] = partidos[['acronimo2', 'acronimo1']].agg('_'.join, axis=1)\n",
    "partidos['kw16'] = partidos[['acronimo2', 'acronimo1']].agg('vs'.join, axis=1)"
   ]
  },
  {
   "cell_type": "code",
   "execution_count": 106,
   "metadata": {},
   "outputs": [],
   "source": [
    "#Function to search tweets using keywords, date and place.\n",
    "def scrape_tweets(keyword,since,city):\n",
    "    date_1 = datetime.datetime.strptime(since, '%Y-%m-%d')\n",
    "    start_date = date_1 - datetime.timedelta(days=2)\n",
    "    start = start_date.strftime('%Y-%m-%d')\n",
    "    end_date = date_1 + datetime.timedelta(days=2)\n",
    "    final = end_date.strftime('%Y-%m-%d')\n",
    "    text=f\"{keyword} since:{start} until:{final} \"\n",
    "    data = pd.DataFrame(itertools.islice(sntwitter.TwitterSearchScraper(\n",
    "    text).get_items(), 5000))\n",
    "    try:\n",
    "        data.to_csv(f\"{since}+{city}.csv\")\n",
    "    except:\n",
    "        data.to_csv(f\"{since}.csv\")\n",
    "        \n",
    "    return data"
   ]
  },
  {
   "cell_type": "code",
   "execution_count": 107,
   "metadata": {},
   "outputs": [
    {
     "data": {
      "text/plain": "            Date                       Stage      Team 1       Team 2  \\\n0     2006-08-16  QUALIFYING STAGE – GROUP A     Belgium   Kazakhstan   \n1     2006-09-02  QUALIFYING STAGE – GROUP A      Serbia   Azerbaijan   \n2     2006-09-02  QUALIFYING STAGE – GROUP A      Poland      Finland   \n3     2006-09-06  QUALIFYING STAGE – GROUP A  Azerbaijan   Kazakhstan   \n4     2006-09-06  QUALIFYING STAGE – GROUP A     Finland     Portugal   \n...          ...                         ...         ...          ...   \n1210  2021-06-28                   1/8 FINAL      France  Switzerland   \n1211  2021-06-29                   1/8 FINAL     England      Germany   \n1212  2021-07-06                   1/2 FINAL       Italy        Spain   \n1213  2021-07-07                   1/2 FINAL     England      Denmark   \n1214  2021-07-11                       FINAL       Italy      England   \n\n     Final result                                              Goals  \\\n0       0-0 (0-0)                                                  -   \n1       1-0 (0-0)  1-0 (Žigić 72’)[Incidents Game played behind c...   \n2       1-3 (0-0)   0-1 (Litmanen 54’); 0-2 (Litmanen [p.] 76’); ...   \n3       1-1 (1-1)                 1-0 (Ladaga 16’); 1-1 (Bjakov 36’)   \n4       1-1 (1-1)          1-0 (Johansson 22’); 1-1 (Nuno Gomes 42’)   \n...           ...                                                ...   \n1210          3-3  GOALS 0-1 (Seferović 15’); 1-1 (Benzema 57’); ...   \n1211          2-0           GOALS 1-0 (Sterling 75’); 2-0 (Kane 86’)   \n1212          1-1           GOALS 1-0 (Chiesa 60’); 1-1 (Morata 80’)   \n1213          2-1  GOALS 0-1 (Damsgaard 30’); 1-1 (Kjær [o.g.] 39...   \n1214          1-1             GOALS 0-1 (Shaw 2’); 1-1 (Bonucci 67’)   \n\n        equipo 1     equipo 2              capitales1 acronimo1  ...     kw7  \\\n0        Belgium   Kazakhstan     Bruxelles [Brussel]        BE  ...   BE_KZ   \n1         Serbia   Azerbaijan                Belgrade        RS  ...   RS_AZ   \n2         Poland      Finland                Warszawa        PL  ...   PL_FI   \n3     Azerbaijan   Kazakhstan                    Baku        AZ  ...   AZ_KZ   \n4        Finland     Portugal  Helsinki [Helsingfors]        FI  ...   FI_PT   \n...          ...          ...                     ...       ...  ...     ...   \n1210      France  Switzerland                   Paris        FR  ...   FR_CH   \n1211     England      Germany                  London       ENG  ...  ENG_DE   \n1212       Italy        Spain                    Roma        IT  ...   IT_ES   \n1213     England      Denmark                  London       ENG  ...  ENG_DK   \n1214       Italy      England                    Roma        IT  ...  IT_ENG   \n\n          kw8                   kw9                   kw10  \\\n0      BEvsKZ     KazakhstanBelgium     Kazakhstan-Belgium   \n1      RSvsAZ      AzerbaijanSerbia      Azerbaijan-Serbia   \n2      PLvsFI         FinlandPoland         Finland-Poland   \n3      AZvsKZ  KazakhstanAzerbaijan  Kazakhstan-Azerbaijan   \n4      FIvsPT       PortugalFinland       Portugal-Finland   \n...       ...                   ...                    ...   \n1210   FRvsCH     SwitzerlandFrance     Switzerland-France   \n1211  ENGvsDE        GermanyEngland        Germany-England   \n1212   ITvsES            SpainItaly            Spain-Italy   \n1213  ENGvsDK        DenmarkEngland        Denmark-England   \n1214  ITvsENG          EnglandItaly          England-Italy   \n\n                       kw11                    kw12   kw13    kw14    kw15  \\\n0        Kazakhstan_Belgium     KazakhstanvsBelgium   KZBE   KZ-BE   KZ_BE   \n1         Azerbaijan_Serbia      AzerbaijanvsSerbia   AZRS   AZ-RS   AZ_RS   \n2            Finland_Poland         FinlandvsPoland   FIPL   FI-PL   FI_PL   \n3     Kazakhstan_Azerbaijan  KazakhstanvsAzerbaijan   KZAZ   KZ-AZ   KZ_AZ   \n4          Portugal_Finland       PortugalvsFinland   PTFI   PT-FI   PT_FI   \n...                     ...                     ...    ...     ...     ...   \n1210     Switzerland_France     SwitzerlandvsFrance   CHFR   CH-FR   CH_FR   \n1211        Germany_England        GermanyvsEngland  DEENG  DE-ENG  DE_ENG   \n1212            Spain_Italy            SpainvsItaly   ESIT   ES-IT   ES_IT   \n1213        Denmark_England        DenmarkvsEngland  DKENG  DK-ENG  DK_ENG   \n1214          England_Italy          EnglandvsItaly  ENGIT  ENG-IT  ENG_IT   \n\n         kw16  \n0      KZvsBE  \n1      AZvsRS  \n2      FIvsPL  \n3      KZvsAZ  \n4      PTvsFI  \n...       ...  \n1210   CHvsFR  \n1211  DEvsENG  \n1212   ESvsIT  \n1213  DKvsENG  \n1214  ENGvsIT  \n\n[1215 rows x 28 columns]",
      "text/html": "<div>\n<style scoped>\n    .dataframe tbody tr th:only-of-type {\n        vertical-align: middle;\n    }\n\n    .dataframe tbody tr th {\n        vertical-align: top;\n    }\n\n    .dataframe thead th {\n        text-align: right;\n    }\n</style>\n<table border=\"1\" class=\"dataframe\">\n  <thead>\n    <tr style=\"text-align: right;\">\n      <th></th>\n      <th>Date</th>\n      <th>Stage</th>\n      <th>Team 1</th>\n      <th>Team 2</th>\n      <th>Final result</th>\n      <th>Goals</th>\n      <th>equipo 1</th>\n      <th>equipo 2</th>\n      <th>capitales1</th>\n      <th>acronimo1</th>\n      <th>...</th>\n      <th>kw7</th>\n      <th>kw8</th>\n      <th>kw9</th>\n      <th>kw10</th>\n      <th>kw11</th>\n      <th>kw12</th>\n      <th>kw13</th>\n      <th>kw14</th>\n      <th>kw15</th>\n      <th>kw16</th>\n    </tr>\n  </thead>\n  <tbody>\n    <tr>\n      <th>0</th>\n      <td>2006-08-16</td>\n      <td>QUALIFYING STAGE – GROUP A</td>\n      <td>Belgium</td>\n      <td>Kazakhstan</td>\n      <td>0-0 (0-0)</td>\n      <td>-</td>\n      <td>Belgium</td>\n      <td>Kazakhstan</td>\n      <td>Bruxelles [Brussel]</td>\n      <td>BE</td>\n      <td>...</td>\n      <td>BE_KZ</td>\n      <td>BEvsKZ</td>\n      <td>KazakhstanBelgium</td>\n      <td>Kazakhstan-Belgium</td>\n      <td>Kazakhstan_Belgium</td>\n      <td>KazakhstanvsBelgium</td>\n      <td>KZBE</td>\n      <td>KZ-BE</td>\n      <td>KZ_BE</td>\n      <td>KZvsBE</td>\n    </tr>\n    <tr>\n      <th>1</th>\n      <td>2006-09-02</td>\n      <td>QUALIFYING STAGE – GROUP A</td>\n      <td>Serbia</td>\n      <td>Azerbaijan</td>\n      <td>1-0 (0-0)</td>\n      <td>1-0 (Žigić 72’)[Incidents Game played behind c...</td>\n      <td>Serbia</td>\n      <td>Azerbaijan</td>\n      <td>Belgrade</td>\n      <td>RS</td>\n      <td>...</td>\n      <td>RS_AZ</td>\n      <td>RSvsAZ</td>\n      <td>AzerbaijanSerbia</td>\n      <td>Azerbaijan-Serbia</td>\n      <td>Azerbaijan_Serbia</td>\n      <td>AzerbaijanvsSerbia</td>\n      <td>AZRS</td>\n      <td>AZ-RS</td>\n      <td>AZ_RS</td>\n      <td>AZvsRS</td>\n    </tr>\n    <tr>\n      <th>2</th>\n      <td>2006-09-02</td>\n      <td>QUALIFYING STAGE – GROUP A</td>\n      <td>Poland</td>\n      <td>Finland</td>\n      <td>1-3 (0-0)</td>\n      <td>0-1 (Litmanen 54’); 0-2 (Litmanen [p.] 76’); ...</td>\n      <td>Poland</td>\n      <td>Finland</td>\n      <td>Warszawa</td>\n      <td>PL</td>\n      <td>...</td>\n      <td>PL_FI</td>\n      <td>PLvsFI</td>\n      <td>FinlandPoland</td>\n      <td>Finland-Poland</td>\n      <td>Finland_Poland</td>\n      <td>FinlandvsPoland</td>\n      <td>FIPL</td>\n      <td>FI-PL</td>\n      <td>FI_PL</td>\n      <td>FIvsPL</td>\n    </tr>\n    <tr>\n      <th>3</th>\n      <td>2006-09-06</td>\n      <td>QUALIFYING STAGE – GROUP A</td>\n      <td>Azerbaijan</td>\n      <td>Kazakhstan</td>\n      <td>1-1 (1-1)</td>\n      <td>1-0 (Ladaga 16’); 1-1 (Bjakov 36’)</td>\n      <td>Azerbaijan</td>\n      <td>Kazakhstan</td>\n      <td>Baku</td>\n      <td>AZ</td>\n      <td>...</td>\n      <td>AZ_KZ</td>\n      <td>AZvsKZ</td>\n      <td>KazakhstanAzerbaijan</td>\n      <td>Kazakhstan-Azerbaijan</td>\n      <td>Kazakhstan_Azerbaijan</td>\n      <td>KazakhstanvsAzerbaijan</td>\n      <td>KZAZ</td>\n      <td>KZ-AZ</td>\n      <td>KZ_AZ</td>\n      <td>KZvsAZ</td>\n    </tr>\n    <tr>\n      <th>4</th>\n      <td>2006-09-06</td>\n      <td>QUALIFYING STAGE – GROUP A</td>\n      <td>Finland</td>\n      <td>Portugal</td>\n      <td>1-1 (1-1)</td>\n      <td>1-0 (Johansson 22’); 1-1 (Nuno Gomes 42’)</td>\n      <td>Finland</td>\n      <td>Portugal</td>\n      <td>Helsinki [Helsingfors]</td>\n      <td>FI</td>\n      <td>...</td>\n      <td>FI_PT</td>\n      <td>FIvsPT</td>\n      <td>PortugalFinland</td>\n      <td>Portugal-Finland</td>\n      <td>Portugal_Finland</td>\n      <td>PortugalvsFinland</td>\n      <td>PTFI</td>\n      <td>PT-FI</td>\n      <td>PT_FI</td>\n      <td>PTvsFI</td>\n    </tr>\n    <tr>\n      <th>...</th>\n      <td>...</td>\n      <td>...</td>\n      <td>...</td>\n      <td>...</td>\n      <td>...</td>\n      <td>...</td>\n      <td>...</td>\n      <td>...</td>\n      <td>...</td>\n      <td>...</td>\n      <td>...</td>\n      <td>...</td>\n      <td>...</td>\n      <td>...</td>\n      <td>...</td>\n      <td>...</td>\n      <td>...</td>\n      <td>...</td>\n      <td>...</td>\n      <td>...</td>\n      <td>...</td>\n    </tr>\n    <tr>\n      <th>1210</th>\n      <td>2021-06-28</td>\n      <td>1/8 FINAL</td>\n      <td>France</td>\n      <td>Switzerland</td>\n      <td>3-3</td>\n      <td>GOALS 0-1 (Seferović 15’); 1-1 (Benzema 57’); ...</td>\n      <td>France</td>\n      <td>Switzerland</td>\n      <td>Paris</td>\n      <td>FR</td>\n      <td>...</td>\n      <td>FR_CH</td>\n      <td>FRvsCH</td>\n      <td>SwitzerlandFrance</td>\n      <td>Switzerland-France</td>\n      <td>Switzerland_France</td>\n      <td>SwitzerlandvsFrance</td>\n      <td>CHFR</td>\n      <td>CH-FR</td>\n      <td>CH_FR</td>\n      <td>CHvsFR</td>\n    </tr>\n    <tr>\n      <th>1211</th>\n      <td>2021-06-29</td>\n      <td>1/8 FINAL</td>\n      <td>England</td>\n      <td>Germany</td>\n      <td>2-0</td>\n      <td>GOALS 1-0 (Sterling 75’); 2-0 (Kane 86’)</td>\n      <td>England</td>\n      <td>Germany</td>\n      <td>London</td>\n      <td>ENG</td>\n      <td>...</td>\n      <td>ENG_DE</td>\n      <td>ENGvsDE</td>\n      <td>GermanyEngland</td>\n      <td>Germany-England</td>\n      <td>Germany_England</td>\n      <td>GermanyvsEngland</td>\n      <td>DEENG</td>\n      <td>DE-ENG</td>\n      <td>DE_ENG</td>\n      <td>DEvsENG</td>\n    </tr>\n    <tr>\n      <th>1212</th>\n      <td>2021-07-06</td>\n      <td>1/2 FINAL</td>\n      <td>Italy</td>\n      <td>Spain</td>\n      <td>1-1</td>\n      <td>GOALS 1-0 (Chiesa 60’); 1-1 (Morata 80’)</td>\n      <td>Italy</td>\n      <td>Spain</td>\n      <td>Roma</td>\n      <td>IT</td>\n      <td>...</td>\n      <td>IT_ES</td>\n      <td>ITvsES</td>\n      <td>SpainItaly</td>\n      <td>Spain-Italy</td>\n      <td>Spain_Italy</td>\n      <td>SpainvsItaly</td>\n      <td>ESIT</td>\n      <td>ES-IT</td>\n      <td>ES_IT</td>\n      <td>ESvsIT</td>\n    </tr>\n    <tr>\n      <th>1213</th>\n      <td>2021-07-07</td>\n      <td>1/2 FINAL</td>\n      <td>England</td>\n      <td>Denmark</td>\n      <td>2-1</td>\n      <td>GOALS 0-1 (Damsgaard 30’); 1-1 (Kjær [o.g.] 39...</td>\n      <td>England</td>\n      <td>Denmark</td>\n      <td>London</td>\n      <td>ENG</td>\n      <td>...</td>\n      <td>ENG_DK</td>\n      <td>ENGvsDK</td>\n      <td>DenmarkEngland</td>\n      <td>Denmark-England</td>\n      <td>Denmark_England</td>\n      <td>DenmarkvsEngland</td>\n      <td>DKENG</td>\n      <td>DK-ENG</td>\n      <td>DK_ENG</td>\n      <td>DKvsENG</td>\n    </tr>\n    <tr>\n      <th>1214</th>\n      <td>2021-07-11</td>\n      <td>FINAL</td>\n      <td>Italy</td>\n      <td>England</td>\n      <td>1-1</td>\n      <td>GOALS 0-1 (Shaw 2’); 1-1 (Bonucci 67’)</td>\n      <td>Italy</td>\n      <td>England</td>\n      <td>Roma</td>\n      <td>IT</td>\n      <td>...</td>\n      <td>IT_ENG</td>\n      <td>ITvsENG</td>\n      <td>EnglandItaly</td>\n      <td>England-Italy</td>\n      <td>England_Italy</td>\n      <td>EnglandvsItaly</td>\n      <td>ENGIT</td>\n      <td>ENG-IT</td>\n      <td>ENG_IT</td>\n      <td>ENGvsIT</td>\n    </tr>\n  </tbody>\n</table>\n<p>1215 rows × 28 columns</p>\n</div>"
     },
     "execution_count": 107,
     "metadata": {},
     "output_type": "execute_result"
    }
   ],
   "source": [
    "partidos"
   ]
  },
  {
   "cell_type": "code",
   "execution_count": 41,
   "metadata": {},
   "outputs": [
    {
     "name": "stderr",
     "output_type": "stream",
     "text": [
      "Error retrieving https://api.twitter.com/2/search/adaptive.json?include_profile_interstitial_type=1&include_blocking=1&include_blocked_by=1&include_followed_by=1&include_want_retweets=1&include_mute_edge=1&include_can_dm=1&include_can_media_tag=1&skip_status=1&cards_platform=Web-12&include_cards=1&include_ext_alt_text=true&include_quote_count=true&include_reply_count=1&tweet_mode=extended&include_entities=true&include_user_entities=true&include_ext_media_color=true&include_ext_media_availability=true&send_error_codes=true&simple_quoted_tweets=true&q=Nigeria+since%3A2007-09-12+until%3A2007-09-13+&tweet_search_mode=live&count=100&query_source=spelling_expansion_revert_click&pc=1&spelling_corrections=1&ext=mediaStats%2ChighlightedLabel: ConnectionError(MaxRetryError(\"HTTPSConnectionPool(host='api.twitter.com', port=443): Max retries exceeded with url: /2/search/adaptive.json?include_profile_interstitial_type=1&include_blocking=1&include_blocked_by=1&include_followed_by=1&include_want_retweets=1&include_mute_edge=1&include_can_dm=1&include_can_media_tag=1&skip_status=1&cards_platform=Web-12&include_cards=1&include_ext_alt_text=true&include_quote_count=true&include_reply_count=1&tweet_mode=extended&include_entities=true&include_user_entities=true&include_ext_media_color=true&include_ext_media_availability=true&send_error_codes=true&simple_quoted_tweets=true&q=Nigeria+since%3A2007-09-12+until%3A2007-09-13+&tweet_search_mode=live&count=100&query_source=spelling_expansion_revert_click&pc=1&spelling_corrections=1&ext=mediaStats%2ChighlightedLabel (Caused by NewConnectionError('<urllib3.connection.HTTPSConnection object at 0x7fa73633ab50>: Failed to establish a new connection: [Errno 8] nodename nor servname provided, or not known'))\"))\n",
      "4 requests to https://api.twitter.com/2/search/adaptive.json?include_profile_interstitial_type=1&include_blocking=1&include_blocked_by=1&include_followed_by=1&include_want_retweets=1&include_mute_edge=1&include_can_dm=1&include_can_media_tag=1&skip_status=1&cards_platform=Web-12&include_cards=1&include_ext_alt_text=true&include_quote_count=true&include_reply_count=1&tweet_mode=extended&include_entities=true&include_user_entities=true&include_ext_media_color=true&include_ext_media_availability=true&send_error_codes=true&simple_quoted_tweets=true&q=Nigeria+since%3A2007-09-12+until%3A2007-09-13+&tweet_search_mode=live&count=100&query_source=spelling_expansion_revert_click&pc=1&spelling_corrections=1&ext=mediaStats%2ChighlightedLabel failed, giving up.\n"
     ]
    },
    {
     "ename": "ScraperException",
     "evalue": "4 requests to https://api.twitter.com/2/search/adaptive.json?include_profile_interstitial_type=1&include_blocking=1&include_blocked_by=1&include_followed_by=1&include_want_retweets=1&include_mute_edge=1&include_can_dm=1&include_can_media_tag=1&skip_status=1&cards_platform=Web-12&include_cards=1&include_ext_alt_text=true&include_quote_count=true&include_reply_count=1&tweet_mode=extended&include_entities=true&include_user_entities=true&include_ext_media_color=true&include_ext_media_availability=true&send_error_codes=true&simple_quoted_tweets=true&q=Nigeria+since%3A2007-09-12+until%3A2007-09-13+&tweet_search_mode=live&count=100&query_source=spelling_expansion_revert_click&pc=1&spelling_corrections=1&ext=mediaStats%2ChighlightedLabel failed, giving up.",
     "output_type": "error",
     "traceback": [
      "\u001B[0;31m---------------------------------------------------------------------------\u001B[0m",
      "\u001B[0;31mScraperException\u001B[0m                          Traceback (most recent call last)",
      "\u001B[0;32m<ipython-input-41-4453ed034b4a>\u001B[0m in \u001B[0;36m<module>\u001B[0;34m\u001B[0m\n\u001B[1;32m     10\u001B[0m         \u001B[0mkeywords\u001B[0m \u001B[0;34m=\u001B[0m \u001B[0;34m[\u001B[0m\u001B[0mpartidos\u001B[0m\u001B[0;34m[\u001B[0m\u001B[0;34m\"partidos\"\u001B[0m\u001B[0;34m]\u001B[0m\u001B[0;34m[\u001B[0m\u001B[0mi\u001B[0m\u001B[0;34m]\u001B[0m\u001B[0;34m,\u001B[0m\u001B[0;34m\"eurocup\"\u001B[0m\u001B[0;34m,\u001B[0m\u001B[0;34m\"inmigrant\"\u001B[0m\u001B[0;34m,\u001B[0m\u001B[0;34m\"migration\"\u001B[0m\u001B[0;34m,\u001B[0m\u001B[0;34m\"arab\"\u001B[0m\u001B[0;34m,\u001B[0m\u001B[0;34m\"muslim\"\u001B[0m\u001B[0;34m,\u001B[0m\u001B[0;34m\"black\"\u001B[0m\u001B[0;34m,\u001B[0m\u001B[0;34m\"african\"\u001B[0m\u001B[0;34m,\u001B[0m\u001B[0;34m\"africa\"\u001B[0m\u001B[0;34m,\u001B[0m\u001B[0;34m\"India\"\u001B[0m\u001B[0;34m,\u001B[0m\u001B[0;34m\"Pakistan\"\u001B[0m\u001B[0;34m,\u001B[0m\u001B[0;34m\"Bangladesh\"\u001B[0m\u001B[0;34m,\u001B[0m\u001B[0;34m\"Nigeria\"\u001B[0m\u001B[0;34m,\u001B[0m\u001B[0;34m\"Kenya\"\u001B[0m\u001B[0;34m,\u001B[0m\u001B[0;34m\"South Africa\"\u001B[0m\u001B[0;34m,\u001B[0m\u001B[0;34m\"Poland\"\u001B[0m\u001B[0;34m]\u001B[0m\u001B[0;34m\u001B[0m\u001B[0;34m\u001B[0m\u001B[0m\n\u001B[1;32m     11\u001B[0m         \u001B[0;32mfor\u001B[0m \u001B[0mj\u001B[0m \u001B[0;32min\u001B[0m \u001B[0mrange\u001B[0m\u001B[0;34m(\u001B[0m\u001B[0mlen\u001B[0m\u001B[0;34m(\u001B[0m\u001B[0mkeywords\u001B[0m\u001B[0;34m)\u001B[0m\u001B[0;34m)\u001B[0m\u001B[0;34m:\u001B[0m\u001B[0;34m\u001B[0m\u001B[0;34m\u001B[0m\u001B[0m\n\u001B[0;32m---> 12\u001B[0;31m             \u001B[0mdatos\u001B[0m\u001B[0;34m=\u001B[0m\u001B[0mscrape_tweets\u001B[0m\u001B[0;34m(\u001B[0m\u001B[0mkeywords\u001B[0m\u001B[0;34m[\u001B[0m\u001B[0mj\u001B[0m\u001B[0;34m]\u001B[0m\u001B[0;34m,\u001B[0m\u001B[0mpartidos\u001B[0m\u001B[0;34m[\u001B[0m\u001B[0;34m\"Date\"\u001B[0m\u001B[0;34m]\u001B[0m\u001B[0;34m[\u001B[0m\u001B[0mi\u001B[0m\u001B[0;34m]\u001B[0m\u001B[0;34m,\u001B[0m\u001B[0mpartidos\u001B[0m\u001B[0;34m[\u001B[0m\u001B[0;34m\"capitales1\"\u001B[0m\u001B[0;34m]\u001B[0m\u001B[0;34m[\u001B[0m\u001B[0mi\u001B[0m\u001B[0;34m]\u001B[0m\u001B[0;34m)\u001B[0m\u001B[0;34m\u001B[0m\u001B[0;34m\u001B[0m\u001B[0m\n\u001B[0m\u001B[1;32m     13\u001B[0m             \u001B[0mtweets\u001B[0m\u001B[0;34m=\u001B[0m\u001B[0mtweets\u001B[0m\u001B[0;34m.\u001B[0m\u001B[0mappend\u001B[0m\u001B[0;34m(\u001B[0m\u001B[0mdatos\u001B[0m\u001B[0;34m,\u001B[0m\u001B[0mignore_index\u001B[0m\u001B[0;34m=\u001B[0m\u001B[0;32mTrue\u001B[0m\u001B[0;34m)\u001B[0m\u001B[0;34m\u001B[0m\u001B[0;34m\u001B[0m\u001B[0m\n\u001B[1;32m     14\u001B[0m \u001B[0;34m\u001B[0m\u001B[0m\n",
      "\u001B[0;32m<ipython-input-38-1930576106c6>\u001B[0m in \u001B[0;36mscrape_tweets\u001B[0;34m(keyword, since, city)\u001B[0m\n\u001B[1;32m      5\u001B[0m     \u001B[0mfinal\u001B[0m \u001B[0;34m=\u001B[0m \u001B[0mend_date\u001B[0m\u001B[0;34m.\u001B[0m\u001B[0mstrftime\u001B[0m\u001B[0;34m(\u001B[0m\u001B[0;34m'%Y-%m-%d'\u001B[0m\u001B[0;34m)\u001B[0m\u001B[0;34m\u001B[0m\u001B[0;34m\u001B[0m\u001B[0m\n\u001B[1;32m      6\u001B[0m     \u001B[0mtext\u001B[0m\u001B[0;34m=\u001B[0m\u001B[0;34mf\"{keyword} since:{since} until:{final} \"\u001B[0m\u001B[0;34m\u001B[0m\u001B[0;34m\u001B[0m\u001B[0m\n\u001B[0;32m----> 7\u001B[0;31m     data = pd.DataFrame(itertools.islice(sntwitter.TwitterSearchScraper(\n\u001B[0m\u001B[1;32m      8\u001B[0m     text).get_items(), 5000))\n\u001B[1;32m      9\u001B[0m     \u001B[0;32mtry\u001B[0m\u001B[0;34m:\u001B[0m\u001B[0;34m\u001B[0m\u001B[0;34m\u001B[0m\u001B[0m\n",
      "\u001B[0;32m/opt/anaconda3/lib/python3.8/site-packages/pandas/core/frame.py\u001B[0m in \u001B[0;36m__init__\u001B[0;34m(self, data, index, columns, dtype, copy)\u001B[0m\n\u001B[1;32m    500\u001B[0m         \u001B[0;32melif\u001B[0m \u001B[0misinstance\u001B[0m\u001B[0;34m(\u001B[0m\u001B[0mdata\u001B[0m\u001B[0;34m,\u001B[0m \u001B[0mabc\u001B[0m\u001B[0;34m.\u001B[0m\u001B[0mIterable\u001B[0m\u001B[0;34m)\u001B[0m \u001B[0;32mand\u001B[0m \u001B[0;32mnot\u001B[0m \u001B[0misinstance\u001B[0m\u001B[0;34m(\u001B[0m\u001B[0mdata\u001B[0m\u001B[0;34m,\u001B[0m \u001B[0;34m(\u001B[0m\u001B[0mstr\u001B[0m\u001B[0;34m,\u001B[0m \u001B[0mbytes\u001B[0m\u001B[0;34m)\u001B[0m\u001B[0;34m)\u001B[0m\u001B[0;34m:\u001B[0m\u001B[0;34m\u001B[0m\u001B[0;34m\u001B[0m\u001B[0m\n\u001B[1;32m    501\u001B[0m             \u001B[0;32mif\u001B[0m \u001B[0;32mnot\u001B[0m \u001B[0misinstance\u001B[0m\u001B[0;34m(\u001B[0m\u001B[0mdata\u001B[0m\u001B[0;34m,\u001B[0m \u001B[0;34m(\u001B[0m\u001B[0mabc\u001B[0m\u001B[0;34m.\u001B[0m\u001B[0mSequence\u001B[0m\u001B[0;34m,\u001B[0m \u001B[0mExtensionArray\u001B[0m\u001B[0;34m)\u001B[0m\u001B[0;34m)\u001B[0m\u001B[0;34m:\u001B[0m\u001B[0;34m\u001B[0m\u001B[0;34m\u001B[0m\u001B[0m\n\u001B[0;32m--> 502\u001B[0;31m                 \u001B[0mdata\u001B[0m \u001B[0;34m=\u001B[0m \u001B[0mlist\u001B[0m\u001B[0;34m(\u001B[0m\u001B[0mdata\u001B[0m\u001B[0;34m)\u001B[0m\u001B[0;34m\u001B[0m\u001B[0;34m\u001B[0m\u001B[0m\n\u001B[0m\u001B[1;32m    503\u001B[0m             \u001B[0;32mif\u001B[0m \u001B[0mlen\u001B[0m\u001B[0;34m(\u001B[0m\u001B[0mdata\u001B[0m\u001B[0;34m)\u001B[0m \u001B[0;34m>\u001B[0m \u001B[0;36m0\u001B[0m\u001B[0;34m:\u001B[0m\u001B[0;34m\u001B[0m\u001B[0;34m\u001B[0m\u001B[0m\n\u001B[1;32m    504\u001B[0m                 \u001B[0;32mif\u001B[0m \u001B[0mis_dataclass\u001B[0m\u001B[0;34m(\u001B[0m\u001B[0mdata\u001B[0m\u001B[0;34m[\u001B[0m\u001B[0;36m0\u001B[0m\u001B[0;34m]\u001B[0m\u001B[0;34m)\u001B[0m\u001B[0;34m:\u001B[0m\u001B[0;34m\u001B[0m\u001B[0;34m\u001B[0m\u001B[0m\n",
      "\u001B[0;32m/opt/anaconda3/lib/python3.8/site-packages/snscrape/modules/twitter.py\u001B[0m in \u001B[0;36mget_items\u001B[0;34m(self)\u001B[0m\n\u001B[1;32m   1403\u001B[0m                         \u001B[0;32mdel\u001B[0m \u001B[0mpaginationParams\u001B[0m\u001B[0;34m[\u001B[0m\u001B[0;34m'tweet_search_mode'\u001B[0m\u001B[0;34m]\u001B[0m\u001B[0;34m\u001B[0m\u001B[0;34m\u001B[0m\u001B[0m\n\u001B[1;32m   1404\u001B[0m \u001B[0;34m\u001B[0m\u001B[0m\n\u001B[0;32m-> 1405\u001B[0;31m                 \u001B[0;32mfor\u001B[0m \u001B[0mobj\u001B[0m \u001B[0;32min\u001B[0m \u001B[0mself\u001B[0m\u001B[0;34m.\u001B[0m\u001B[0m_iter_api_data\u001B[0m\u001B[0;34m(\u001B[0m\u001B[0;34m'https://api.twitter.com/2/search/adaptive.json'\u001B[0m\u001B[0;34m,\u001B[0m \u001B[0m_TwitterAPIType\u001B[0m\u001B[0;34m.\u001B[0m\u001B[0mV2\u001B[0m\u001B[0;34m,\u001B[0m \u001B[0mparams\u001B[0m\u001B[0;34m,\u001B[0m \u001B[0mpaginationParams\u001B[0m\u001B[0;34m,\u001B[0m \u001B[0mcursor\u001B[0m \u001B[0;34m=\u001B[0m \u001B[0mself\u001B[0m\u001B[0;34m.\u001B[0m\u001B[0m_cursor\u001B[0m\u001B[0;34m)\u001B[0m\u001B[0;34m:\u001B[0m\u001B[0;34m\u001B[0m\u001B[0;34m\u001B[0m\u001B[0m\n\u001B[0m\u001B[1;32m   1406\u001B[0m                         \u001B[0;32myield\u001B[0m \u001B[0;32mfrom\u001B[0m \u001B[0mself\u001B[0m\u001B[0;34m.\u001B[0m\u001B[0m_v2_timeline_instructions_to_tweets\u001B[0m\u001B[0;34m(\u001B[0m\u001B[0mobj\u001B[0m\u001B[0;34m)\u001B[0m\u001B[0;34m\u001B[0m\u001B[0;34m\u001B[0m\u001B[0m\n\u001B[1;32m   1407\u001B[0m \u001B[0;34m\u001B[0m\u001B[0m\n",
      "\u001B[0;32m/opt/anaconda3/lib/python3.8/site-packages/snscrape/modules/twitter.py\u001B[0m in \u001B[0;36m_iter_api_data\u001B[0;34m(self, endpoint, apiType, params, paginationParams, cursor, direction)\u001B[0m\n\u001B[1;32m    695\u001B[0m                 \u001B[0;32mwhile\u001B[0m \u001B[0;32mTrue\u001B[0m\u001B[0;34m:\u001B[0m\u001B[0;34m\u001B[0m\u001B[0;34m\u001B[0m\u001B[0m\n\u001B[1;32m    696\u001B[0m                         \u001B[0m_logger\u001B[0m\u001B[0;34m.\u001B[0m\u001B[0minfo\u001B[0m\u001B[0;34m(\u001B[0m\u001B[0;34mf'Retrieving scroll page {cursor}'\u001B[0m\u001B[0;34m)\u001B[0m\u001B[0;34m\u001B[0m\u001B[0;34m\u001B[0m\u001B[0m\n\u001B[0;32m--> 697\u001B[0;31m                         \u001B[0mobj\u001B[0m \u001B[0;34m=\u001B[0m \u001B[0mself\u001B[0m\u001B[0;34m.\u001B[0m\u001B[0m_get_api_data\u001B[0m\u001B[0;34m(\u001B[0m\u001B[0mendpoint\u001B[0m\u001B[0;34m,\u001B[0m \u001B[0mapiType\u001B[0m\u001B[0;34m,\u001B[0m \u001B[0mreqParams\u001B[0m\u001B[0;34m)\u001B[0m\u001B[0;34m\u001B[0m\u001B[0;34m\u001B[0m\u001B[0m\n\u001B[0m\u001B[1;32m    698\u001B[0m                         \u001B[0;32myield\u001B[0m \u001B[0mobj\u001B[0m\u001B[0;34m\u001B[0m\u001B[0;34m\u001B[0m\u001B[0m\n\u001B[1;32m    699\u001B[0m \u001B[0;34m\u001B[0m\u001B[0m\n",
      "\u001B[0;32m/opt/anaconda3/lib/python3.8/site-packages/snscrape/modules/twitter.py\u001B[0m in \u001B[0;36m_get_api_data\u001B[0;34m(self, endpoint, apiType, params)\u001B[0m\n\u001B[1;32m    665\u001B[0m                 \u001B[0;32mif\u001B[0m \u001B[0mapiType\u001B[0m \u001B[0;32mis\u001B[0m \u001B[0m_TwitterAPIType\u001B[0m\u001B[0;34m.\u001B[0m\u001B[0mGRAPHQL\u001B[0m\u001B[0;34m:\u001B[0m\u001B[0;34m\u001B[0m\u001B[0;34m\u001B[0m\u001B[0m\n\u001B[1;32m    666\u001B[0m                         \u001B[0mparams\u001B[0m \u001B[0;34m=\u001B[0m \u001B[0murllib\u001B[0m\u001B[0;34m.\u001B[0m\u001B[0mparse\u001B[0m\u001B[0;34m.\u001B[0m\u001B[0murlencode\u001B[0m\u001B[0;34m(\u001B[0m\u001B[0;34m{\u001B[0m\u001B[0;34m'variables'\u001B[0m\u001B[0;34m:\u001B[0m \u001B[0mjson\u001B[0m\u001B[0;34m.\u001B[0m\u001B[0mdumps\u001B[0m\u001B[0;34m(\u001B[0m\u001B[0mparams\u001B[0m\u001B[0;34m,\u001B[0m \u001B[0mseparators\u001B[0m \u001B[0;34m=\u001B[0m \u001B[0;34m(\u001B[0m\u001B[0;34m','\u001B[0m\u001B[0;34m,\u001B[0m \u001B[0;34m':'\u001B[0m\u001B[0;34m)\u001B[0m\u001B[0;34m)\u001B[0m\u001B[0;34m}\u001B[0m\u001B[0;34m,\u001B[0m \u001B[0mquote_via\u001B[0m \u001B[0;34m=\u001B[0m \u001B[0murllib\u001B[0m\u001B[0;34m.\u001B[0m\u001B[0mparse\u001B[0m\u001B[0;34m.\u001B[0m\u001B[0mquote\u001B[0m\u001B[0;34m)\u001B[0m\u001B[0;34m\u001B[0m\u001B[0;34m\u001B[0m\u001B[0m\n\u001B[0;32m--> 667\u001B[0;31m                 \u001B[0mr\u001B[0m \u001B[0;34m=\u001B[0m \u001B[0mself\u001B[0m\u001B[0;34m.\u001B[0m\u001B[0m_get\u001B[0m\u001B[0;34m(\u001B[0m\u001B[0mendpoint\u001B[0m\u001B[0;34m,\u001B[0m \u001B[0mparams\u001B[0m \u001B[0;34m=\u001B[0m \u001B[0mparams\u001B[0m\u001B[0;34m,\u001B[0m \u001B[0mheaders\u001B[0m \u001B[0;34m=\u001B[0m \u001B[0mself\u001B[0m\u001B[0;34m.\u001B[0m\u001B[0m_apiHeaders\u001B[0m\u001B[0;34m,\u001B[0m \u001B[0mresponseOkCallback\u001B[0m \u001B[0;34m=\u001B[0m \u001B[0mself\u001B[0m\u001B[0;34m.\u001B[0m\u001B[0m_check_api_response\u001B[0m\u001B[0;34m)\u001B[0m\u001B[0;34m\u001B[0m\u001B[0;34m\u001B[0m\u001B[0m\n\u001B[0m\u001B[1;32m    668\u001B[0m                 \u001B[0;32mtry\u001B[0m\u001B[0;34m:\u001B[0m\u001B[0;34m\u001B[0m\u001B[0;34m\u001B[0m\u001B[0m\n\u001B[1;32m    669\u001B[0m                         \u001B[0mobj\u001B[0m \u001B[0;34m=\u001B[0m \u001B[0mr\u001B[0m\u001B[0;34m.\u001B[0m\u001B[0mjson\u001B[0m\u001B[0;34m(\u001B[0m\u001B[0;34m)\u001B[0m\u001B[0;34m\u001B[0m\u001B[0;34m\u001B[0m\u001B[0m\n",
      "\u001B[0;32m/opt/anaconda3/lib/python3.8/site-packages/snscrape/base.py\u001B[0m in \u001B[0;36m_get\u001B[0;34m(self, *args, **kwargs)\u001B[0m\n\u001B[1;32m    219\u001B[0m \u001B[0;34m\u001B[0m\u001B[0m\n\u001B[1;32m    220\u001B[0m         \u001B[0;32mdef\u001B[0m \u001B[0m_get\u001B[0m\u001B[0;34m(\u001B[0m\u001B[0mself\u001B[0m\u001B[0;34m,\u001B[0m \u001B[0;34m*\u001B[0m\u001B[0margs\u001B[0m\u001B[0;34m,\u001B[0m \u001B[0;34m**\u001B[0m\u001B[0mkwargs\u001B[0m\u001B[0;34m)\u001B[0m\u001B[0;34m:\u001B[0m\u001B[0;34m\u001B[0m\u001B[0;34m\u001B[0m\u001B[0m\n\u001B[0;32m--> 221\u001B[0;31m                 \u001B[0;32mreturn\u001B[0m \u001B[0mself\u001B[0m\u001B[0;34m.\u001B[0m\u001B[0m_request\u001B[0m\u001B[0;34m(\u001B[0m\u001B[0;34m'GET'\u001B[0m\u001B[0;34m,\u001B[0m \u001B[0;34m*\u001B[0m\u001B[0margs\u001B[0m\u001B[0;34m,\u001B[0m \u001B[0;34m**\u001B[0m\u001B[0mkwargs\u001B[0m\u001B[0;34m)\u001B[0m\u001B[0;34m\u001B[0m\u001B[0;34m\u001B[0m\u001B[0m\n\u001B[0m\u001B[1;32m    222\u001B[0m \u001B[0;34m\u001B[0m\u001B[0m\n\u001B[1;32m    223\u001B[0m         \u001B[0;32mdef\u001B[0m \u001B[0m_post\u001B[0m\u001B[0;34m(\u001B[0m\u001B[0mself\u001B[0m\u001B[0;34m,\u001B[0m \u001B[0;34m*\u001B[0m\u001B[0margs\u001B[0m\u001B[0;34m,\u001B[0m \u001B[0;34m**\u001B[0m\u001B[0mkwargs\u001B[0m\u001B[0;34m)\u001B[0m\u001B[0;34m:\u001B[0m\u001B[0;34m\u001B[0m\u001B[0;34m\u001B[0m\u001B[0m\n",
      "\u001B[0;32m/opt/anaconda3/lib/python3.8/site-packages/snscrape/base.py\u001B[0m in \u001B[0;36m_request\u001B[0;34m(self, method, url, params, data, headers, timeout, responseOkCallback, allowRedirects, proxies)\u001B[0m\n\u001B[1;32m    215\u001B[0m                         \u001B[0mmsg\u001B[0m \u001B[0;34m=\u001B[0m \u001B[0;34mf'{self._retries + 1} requests to {req.url} failed, giving up.'\u001B[0m\u001B[0;34m\u001B[0m\u001B[0;34m\u001B[0m\u001B[0m\n\u001B[1;32m    216\u001B[0m                         \u001B[0mlogger\u001B[0m\u001B[0;34m.\u001B[0m\u001B[0mfatal\u001B[0m\u001B[0;34m(\u001B[0m\u001B[0mmsg\u001B[0m\u001B[0;34m)\u001B[0m\u001B[0;34m\u001B[0m\u001B[0;34m\u001B[0m\u001B[0m\n\u001B[0;32m--> 217\u001B[0;31m                         \u001B[0;32mraise\u001B[0m \u001B[0mScraperException\u001B[0m\u001B[0;34m(\u001B[0m\u001B[0mmsg\u001B[0m\u001B[0;34m)\u001B[0m\u001B[0;34m\u001B[0m\u001B[0;34m\u001B[0m\u001B[0m\n\u001B[0m\u001B[1;32m    218\u001B[0m                 \u001B[0;32mraise\u001B[0m \u001B[0mRuntimeError\u001B[0m\u001B[0;34m(\u001B[0m\u001B[0;34m'Reached unreachable code'\u001B[0m\u001B[0;34m)\u001B[0m\u001B[0;34m\u001B[0m\u001B[0;34m\u001B[0m\u001B[0m\n\u001B[1;32m    219\u001B[0m \u001B[0;34m\u001B[0m\u001B[0m\n",
      "\u001B[0;31mScraperException\u001B[0m: 4 requests to https://api.twitter.com/2/search/adaptive.json?include_profile_interstitial_type=1&include_blocking=1&include_blocked_by=1&include_followed_by=1&include_want_retweets=1&include_mute_edge=1&include_can_dm=1&include_can_media_tag=1&skip_status=1&cards_platform=Web-12&include_cards=1&include_ext_alt_text=true&include_quote_count=true&include_reply_count=1&tweet_mode=extended&include_entities=true&include_user_entities=true&include_ext_media_color=true&include_ext_media_availability=true&send_error_codes=true&simple_quoted_tweets=true&q=Nigeria+since%3A2007-09-12+until%3A2007-09-13+&tweet_search_mode=live&count=100&query_source=spelling_expansion_revert_click&pc=1&spelling_corrections=1&ext=mediaStats%2ChighlightedLabel failed, giving up."
     ]
    }
   ],
   "source": [
    "import pandas as pd\n",
    "import snscrape.modules.twitter as sntwitter\n",
    "import itertools\n",
    "import os\n",
    "import datetime\n",
    "\n",
    "#Call function using keywords and date from matches. Load results in new dataframe.\n",
    "tweets=pd.DataFrame()\n",
    "for i in range(len(partidos[\"Date\"])):\n",
    "        keywords = [partidos['kw1'][i],partidos['kw2'][i],partidos['kw3'][i],partidos['kw4'][i],partidos['kw5'][i],\n",
    "                    partidos['kw6'][i],partidos['kw7'][i],partidos['kw8'][i],partidos['kw9'][i],partidos['kw10'][i],\n",
    "                    partidos['kw11'][i],partidos['kw12'][i],partidos['kw13'][i],partidos['kw14'][i],partidos['kw15'][i],\n",
    "                    partidos['kw16'][i]]\n",
    "        for j in range(len(keywords)):\n",
    "            datos=scrape_tweets(keywords[j],partidos[\"Date\"][i],partidos[\"capitales1\"][i])\n",
    "            tweets=tweets.append(datos,ignore_index=True)\n",
    "\n",
    "\n",
    "    "
   ]
  },
  {
   "cell_type": "code",
   "execution_count": 25,
   "metadata": {},
   "outputs": [],
   "source": [
    "a=pd.DataFrame()\n",
    "\n",
    "a=a.append(datos)\n",
    "a=a.append(datos,ignore_index=True)"
   ]
  },
  {
   "cell_type": "code",
   "execution_count": 6,
   "metadata": {},
   "outputs": [
    {
     "ename": "NameError",
     "evalue": "name 'datos' is not defined",
     "output_type": "error",
     "traceback": [
      "\u001B[0;31m---------------------------------------------------------------------------\u001B[0m",
      "\u001B[0;31mNameError\u001B[0m                                 Traceback (most recent call last)",
      "\u001B[0;32m<ipython-input-6-06461e1fca48>\u001B[0m in \u001B[0;36m<module>\u001B[0;34m\u001B[0m\n\u001B[0;32m----> 1\u001B[0;31m \u001B[0mdatos\u001B[0m\u001B[0;34m\u001B[0m\u001B[0;34m\u001B[0m\u001B[0m\n\u001B[0m",
      "\u001B[0;31mNameError\u001B[0m: name 'datos' is not defined"
     ]
    }
   ],
   "source": [
    "datos"
   ]
  },
  {
   "cell_type": "code",
   "execution_count": null,
   "metadata": {},
   "outputs": [],
   "source": []
  },
  {
   "cell_type": "code",
   "execution_count": null,
   "metadata": {},
   "outputs": [],
   "source": []
  },
  {
   "cell_type": "code",
   "execution_count": null,
   "metadata": {},
   "outputs": [],
   "source": []
  }
 ],
 "metadata": {
  "kernelspec": {
   "name": "pycharm-fd68d38",
   "language": "python",
   "display_name": "PyCharm (Scrape_tweets)"
  }
 },
 "nbformat": 4,
 "nbformat_minor": 4
}